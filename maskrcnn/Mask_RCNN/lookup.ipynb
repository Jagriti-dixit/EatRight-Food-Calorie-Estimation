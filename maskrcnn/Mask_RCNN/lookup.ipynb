{
 "cells": [
  {
   "cell_type": "code",
   "execution_count": 1,
   "metadata": {
    "executionInfo": {
     "elapsed": 110,
     "status": "ok",
     "timestamp": 1654051240102,
     "user": {
      "displayName": "Aditya Thakur",
      "userId": "02747159187323665905"
     },
     "user_tz": 420
    },
    "id": "wFmRXOZiB9Zy"
   },
   "outputs": [],
   "source": [
    "import csv"
   ]
  },
  {
   "cell_type": "code",
   "execution_count": 12,
   "metadata": {
    "executionInfo": {
     "elapsed": 129,
     "status": "ok",
     "timestamp": 1654051240864,
     "user": {
      "displayName": "Aditya Thakur",
      "userId": "02747159187323665905"
     },
     "user_tz": 420
    },
    "id": "6Hgo2KCq9iu_"
   },
   "outputs": [],
   "source": [
    "def get_calories(calories_datafile, food_list):\n",
    "  calorific_value = 0\n",
    "  file = open(calories_datafile)\n",
    "  csvreader = csv.reader(file)\n",
    "  calories_dict = dict((rows[0],rows[1]) for rows in csvreader)\n",
    "  file.close()\n",
    "  for item in food_list:\n",
    "        calorific_value+=int(calories_dict[item])\n",
    "    \n",
    "  return calorific_value\n"
   ]
  },
  {
   "cell_type": "code",
   "execution_count": 11,
   "metadata": {
    "colab": {
     "base_uri": "https://localhost:8080/"
    },
    "executionInfo": {
     "elapsed": 100,
     "status": "ok",
     "timestamp": 1654051303799,
     "user": {
      "displayName": "Aditya Thakur",
      "userId": "02747159187323665905"
     },
     "user_tz": 420
    },
    "id": "cTEAFWfb_s65",
    "outputId": "b9128c95-65c8-4edb-f2e9-85419f12b7f2"
   },
   "outputs": [
    {
     "name": "stdout",
     "output_type": "stream",
     "text": [
      "917\n"
     ]
    }
   ],
   "source": [
    "calories_data = \"calories_data.csv\"\n",
    "category = ['cup_cakes', 'cup_cakes', 'cup_cakes', 'cup_cakes', 'cup_cakes', 'cup_cakes',\n",
    " 'cup_cakes']\n",
    "\n",
    "total_calories = get_calories(calories_data, category)\n",
    "print(total_calories)"
   ]
  }
 ],
 "metadata": {
  "colab": {
   "authorship_tag": "ABX9TyMrDwONcJHNDKk4ek5oZwwb",
   "collapsed_sections": [],
   "name": "lookup.ipynb",
   "provenance": []
  },
  "kernelspec": {
   "display_name": "Python 3",
   "language": "python",
   "name": "python3"
  },
  "language_info": {
   "codemirror_mode": {
    "name": "ipython",
    "version": 3
   },
   "file_extension": ".py",
   "mimetype": "text/x-python",
   "name": "python",
   "nbconvert_exporter": "python",
   "pygments_lexer": "ipython3",
   "version": "3.5.2"
  }
 },
 "nbformat": 4,
 "nbformat_minor": 1
}
